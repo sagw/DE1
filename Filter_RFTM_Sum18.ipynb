{
 "cells": [
  {
   "cell_type": "code",
   "execution_count": 1,
   "metadata": {},
   "outputs": [],
   "source": [
    "Filt=read.csv(\"~/Documents/DE/Filter_RFTM_Sum18.csv\")"
   ]
  },
  {
   "cell_type": "code",
   "execution_count": 2,
   "metadata": {},
   "outputs": [
    {
     "data": {
      "text/html": [
       "<table>\n",
       "<thead><tr><th scope=col>Date</th><th scope=col>Time</th><th scope=col>Environment</th><th scope=col>Replicate</th><th scope=col>RFTM</th><th scope=col>Gen</th><th scope=col>Amount.Filtered..mL.</th><th scope=col>Processed</th><th scope=col>Date.Filter.Read</th><th scope=col>Filter</th><th scope=col>Dermo.Cells.Obs</th><th scope=col>X</th><th scope=col>Key</th><th scope=col>X.1</th></tr></thead>\n",
       "<tbody>\n",
       "\t<tr><td>6/29                </td><td>8:40                </td><td>DCV                 </td><td>1                   </td><td>A                   </td><td>B                   </td><td>500                 </td><td>A B                 </td><td>7/5                 </td><td>DCV 1               </td><td>0                   </td><td>NA                  </td><td>DCV                 </td><td>Diseased Oyster tank</td></tr>\n",
       "\t<tr><td>6/29                </td><td>                    </td><td>DCV                 </td><td>2                   </td><td>A                   </td><td>B                   </td><td>500                 </td><td>B                   </td><td>7/5                 </td><td>DCV 2               </td><td>N/A                 </td><td>NA                  </td><td>FCV                 </td><td>Feeding Tank        </td></tr>\n",
       "\t<tr><td>6/29                </td><td>8:40                </td><td>FCV                 </td><td>1                   </td><td>A                   </td><td>B                   </td><td>500                 </td><td>A B                 </td><td>7/5                 </td><td>FCV 1               </td><td>17                  </td><td>NA                  </td><td>HP                  </td><td>High Polyculture    </td></tr>\n",
       "\t<tr><td>6/29                </td><td>                    </td><td>FCV                 </td><td>2                   </td><td>A                   </td><td>B                   </td><td>500                 </td><td>                    </td><td>7/5                 </td><td>FCV 2               </td><td>N/a                 </td><td>NA                  </td><td>HM                  </td><td>High Monoculture    </td></tr>\n",
       "\t<tr><td>6/29                </td><td>8:40                </td><td>HP                  </td><td>2                   </td><td>A                   </td><td>B                   </td><td>500                 </td><td>A B                 </td><td>7/5                 </td><td>HP 2                </td><td>0                   </td><td>NA                  </td><td>LP                  </td><td>Low Polyculture     </td></tr>\n",
       "\t<tr><td>6/29                </td><td>*2nd @ 10:50        </td><td>HP                  </td><td>3                   </td><td>A                   </td><td>B                   </td><td>500                 </td><td>A B                 </td><td>7/5                 </td><td>HP3                 </td><td>0                   </td><td>NA                  </td><td>LM                  </td><td>Low Monoculture     </td></tr>\n",
       "</tbody>\n",
       "</table>\n"
      ],
      "text/latex": [
       "\\begin{tabular}{r|llllllllllllll}\n",
       " Date & Time & Environment & Replicate & RFTM & Gen & Amount.Filtered..mL. & Processed & Date.Filter.Read & Filter & Dermo.Cells.Obs & X & Key & X.1\\\\\n",
       "\\hline\n",
       "\t 6/29                 & 8:40                 & DCV                  & 1                    & A                    & B                    & 500                  & A B                  & 7/5                  & DCV 1                & 0                    & NA                   & DCV                  & Diseased Oyster tank\\\\\n",
       "\t 6/29                 &                      & DCV                  & 2                    & A                    & B                    & 500                  & B                    & 7/5                  & DCV 2                & N/A                  & NA                   & FCV                  & Feeding Tank        \\\\\n",
       "\t 6/29                 & 8:40                 & FCV                  & 1                    & A                    & B                    & 500                  & A B                  & 7/5                  & FCV 1                & 17                   & NA                   & HP                   & High Polyculture    \\\\\n",
       "\t 6/29                 &                      & FCV                  & 2                    & A                    & B                    & 500                  &                      & 7/5                  & FCV 2                & N/a                  & NA                   & HM                   & High Monoculture    \\\\\n",
       "\t 6/29                 & 8:40                 & HP                   & 2                    & A                    & B                    & 500                  & A B                  & 7/5                  & HP 2                 & 0                    & NA                   & LP                   & Low Polyculture     \\\\\n",
       "\t 6/29                 & *2nd @ 10:50         & HP                   & 3                    & A                    & B                    & 500                  & A B                  & 7/5                  & HP3                  & 0                    & NA                   & LM                   & Low Monoculture     \\\\\n",
       "\\end{tabular}\n"
      ],
      "text/markdown": [
       "\n",
       "Date | Time | Environment | Replicate | RFTM | Gen | Amount.Filtered..mL. | Processed | Date.Filter.Read | Filter | Dermo.Cells.Obs | X | Key | X.1 | \n",
       "|---|---|---|---|---|---|\n",
       "| 6/29                 | 8:40                 | DCV                  | 1                    | A                    | B                    | 500                  | A B                  | 7/5                  | DCV 1                | 0                    | NA                   | DCV                  | Diseased Oyster tank | \n",
       "| 6/29                 |                      | DCV                  | 2                    | A                    | B                    | 500                  | B                    | 7/5                  | DCV 2                | N/A                  | NA                   | FCV                  | Feeding Tank         | \n",
       "| 6/29                 | 8:40                 | FCV                  | 1                    | A                    | B                    | 500                  | A B                  | 7/5                  | FCV 1                | 17                   | NA                   | HP                   | High Polyculture     | \n",
       "| 6/29                 |                      | FCV                  | 2                    | A                    | B                    | 500                  |                      | 7/5                  | FCV 2                | N/a                  | NA                   | HM                   | High Monoculture     | \n",
       "| 6/29                 | 8:40                 | HP                   | 2                    | A                    | B                    | 500                  | A B                  | 7/5                  | HP 2                 | 0                    | NA                   | LP                   | Low Polyculture      | \n",
       "| 6/29                 | *2nd @ 10:50         | HP                   | 3                    | A                    | B                    | 500                  | A B                  | 7/5                  | HP3                  | 0                    | NA                   | LM                   | Low Monoculture      | \n",
       "\n",
       "\n"
      ],
      "text/plain": [
       "  Date Time         Environment Replicate RFTM Gen Amount.Filtered..mL.\n",
       "1 6/29 8:40         DCV         1         A    B   500                 \n",
       "2 6/29              DCV         2         A    B   500                 \n",
       "3 6/29 8:40         FCV         1         A    B   500                 \n",
       "4 6/29              FCV         2         A    B   500                 \n",
       "5 6/29 8:40         HP          2         A    B   500                 \n",
       "6 6/29 *2nd @ 10:50 HP          3         A    B   500                 \n",
       "  Processed Date.Filter.Read Filter Dermo.Cells.Obs X  Key X.1                 \n",
       "1 A B       7/5              DCV 1  0               NA DCV Diseased Oyster tank\n",
       "2 B         7/5              DCV 2  N/A             NA FCV Feeding Tank        \n",
       "3 A B       7/5              FCV 1  17              NA HP  High Polyculture    \n",
       "4           7/5              FCV 2  N/a             NA HM  High Monoculture    \n",
       "5 A B       7/5              HP 2   0               NA LP  Low Polyculture     \n",
       "6 A B       7/5              HP3    0               NA LM  Low Monoculture     "
      ]
     },
     "metadata": {},
     "output_type": "display_data"
    }
   ],
   "source": [
    "head(Filt)"
   ]
  },
  {
   "cell_type": "code",
   "execution_count": 3,
   "metadata": {},
   "outputs": [
    {
     "name": "stderr",
     "output_type": "stream",
     "text": [
      "Warning message in eval(expr, envir, enclos):\n",
      "“NAs introduced by coercion”"
     ]
    }
   ],
   "source": [
    "Filt$Dermo.Cells.Obs=as.numeric(as.character(Filt$Dermo.Cells.Obs))"
   ]
  },
  {
   "cell_type": "code",
   "execution_count": 4,
   "metadata": {},
   "outputs": [
    {
     "data": {
      "text/html": [
       "<table>\n",
       "<thead><tr><th scope=col>Date</th><th scope=col>Time</th><th scope=col>Environment</th><th scope=col>Replicate</th><th scope=col>RFTM</th><th scope=col>Gen</th><th scope=col>Amount.Filtered..mL.</th><th scope=col>Processed</th><th scope=col>Date.Filter.Read</th><th scope=col>Filter</th><th scope=col>Dermo.Cells.Obs</th><th scope=col>X</th><th scope=col>Key</th><th scope=col>X.1</th></tr></thead>\n",
       "<tbody>\n",
       "\t<tr><td>6/29                </td><td>8:40                </td><td>DCV                 </td><td>1                   </td><td>A                   </td><td>B                   </td><td>500                 </td><td>A B                 </td><td>7/5                 </td><td>DCV 1               </td><td> 0                  </td><td>NA                  </td><td>DCV                 </td><td>Diseased Oyster tank</td></tr>\n",
       "\t<tr><td>6/29                </td><td>                    </td><td>DCV                 </td><td>2                   </td><td>A                   </td><td>B                   </td><td>500                 </td><td>B                   </td><td>7/5                 </td><td>DCV 2               </td><td>NA                  </td><td>NA                  </td><td>FCV                 </td><td>Feeding Tank        </td></tr>\n",
       "\t<tr><td>6/29                </td><td>8:40                </td><td>FCV                 </td><td>1                   </td><td>A                   </td><td>B                   </td><td>500                 </td><td>A B                 </td><td>7/5                 </td><td>FCV 1               </td><td>17                  </td><td>NA                  </td><td>HP                  </td><td>High Polyculture    </td></tr>\n",
       "\t<tr><td>6/29                </td><td>                    </td><td>FCV                 </td><td>2                   </td><td>A                   </td><td>B                   </td><td>500                 </td><td>                    </td><td>7/5                 </td><td>FCV 2               </td><td>NA                  </td><td>NA                  </td><td>HM                  </td><td>High Monoculture    </td></tr>\n",
       "\t<tr><td>6/29                </td><td>8:40                </td><td>HP                  </td><td>2                   </td><td>A                   </td><td>B                   </td><td>500                 </td><td>A B                 </td><td>7/5                 </td><td>HP 2                </td><td> 0                  </td><td>NA                  </td><td>LP                  </td><td>Low Polyculture     </td></tr>\n",
       "\t<tr><td>6/29                </td><td>*2nd @ 10:50        </td><td>HP                  </td><td>3                   </td><td>A                   </td><td>B                   </td><td>500                 </td><td>A B                 </td><td>7/5                 </td><td>HP3                 </td><td> 0                  </td><td>NA                  </td><td>LM                  </td><td>Low Monoculture     </td></tr>\n",
       "</tbody>\n",
       "</table>\n"
      ],
      "text/latex": [
       "\\begin{tabular}{r|llllllllllllll}\n",
       " Date & Time & Environment & Replicate & RFTM & Gen & Amount.Filtered..mL. & Processed & Date.Filter.Read & Filter & Dermo.Cells.Obs & X & Key & X.1\\\\\n",
       "\\hline\n",
       "\t 6/29                 & 8:40                 & DCV                  & 1                    & A                    & B                    & 500                  & A B                  & 7/5                  & DCV 1                &  0                   & NA                   & DCV                  & Diseased Oyster tank\\\\\n",
       "\t 6/29                 &                      & DCV                  & 2                    & A                    & B                    & 500                  & B                    & 7/5                  & DCV 2                & NA                   & NA                   & FCV                  & Feeding Tank        \\\\\n",
       "\t 6/29                 & 8:40                 & FCV                  & 1                    & A                    & B                    & 500                  & A B                  & 7/5                  & FCV 1                & 17                   & NA                   & HP                   & High Polyculture    \\\\\n",
       "\t 6/29                 &                      & FCV                  & 2                    & A                    & B                    & 500                  &                      & 7/5                  & FCV 2                & NA                   & NA                   & HM                   & High Monoculture    \\\\\n",
       "\t 6/29                 & 8:40                 & HP                   & 2                    & A                    & B                    & 500                  & A B                  & 7/5                  & HP 2                 &  0                   & NA                   & LP                   & Low Polyculture     \\\\\n",
       "\t 6/29                 & *2nd @ 10:50         & HP                   & 3                    & A                    & B                    & 500                  & A B                  & 7/5                  & HP3                  &  0                   & NA                   & LM                   & Low Monoculture     \\\\\n",
       "\\end{tabular}\n"
      ],
      "text/markdown": [
       "\n",
       "Date | Time | Environment | Replicate | RFTM | Gen | Amount.Filtered..mL. | Processed | Date.Filter.Read | Filter | Dermo.Cells.Obs | X | Key | X.1 | \n",
       "|---|---|---|---|---|---|\n",
       "| 6/29                 | 8:40                 | DCV                  | 1                    | A                    | B                    | 500                  | A B                  | 7/5                  | DCV 1                |  0                   | NA                   | DCV                  | Diseased Oyster tank | \n",
       "| 6/29                 |                      | DCV                  | 2                    | A                    | B                    | 500                  | B                    | 7/5                  | DCV 2                | NA                   | NA                   | FCV                  | Feeding Tank         | \n",
       "| 6/29                 | 8:40                 | FCV                  | 1                    | A                    | B                    | 500                  | A B                  | 7/5                  | FCV 1                | 17                   | NA                   | HP                   | High Polyculture     | \n",
       "| 6/29                 |                      | FCV                  | 2                    | A                    | B                    | 500                  |                      | 7/5                  | FCV 2                | NA                   | NA                   | HM                   | High Monoculture     | \n",
       "| 6/29                 | 8:40                 | HP                   | 2                    | A                    | B                    | 500                  | A B                  | 7/5                  | HP 2                 |  0                   | NA                   | LP                   | Low Polyculture      | \n",
       "| 6/29                 | *2nd @ 10:50         | HP                   | 3                    | A                    | B                    | 500                  | A B                  | 7/5                  | HP3                  |  0                   | NA                   | LM                   | Low Monoculture      | \n",
       "\n",
       "\n"
      ],
      "text/plain": [
       "  Date Time         Environment Replicate RFTM Gen Amount.Filtered..mL.\n",
       "1 6/29 8:40         DCV         1         A    B   500                 \n",
       "2 6/29              DCV         2         A    B   500                 \n",
       "3 6/29 8:40         FCV         1         A    B   500                 \n",
       "4 6/29              FCV         2         A    B   500                 \n",
       "5 6/29 8:40         HP          2         A    B   500                 \n",
       "6 6/29 *2nd @ 10:50 HP          3         A    B   500                 \n",
       "  Processed Date.Filter.Read Filter Dermo.Cells.Obs X  Key X.1                 \n",
       "1 A B       7/5              DCV 1   0              NA DCV Diseased Oyster tank\n",
       "2 B         7/5              DCV 2  NA              NA FCV Feeding Tank        \n",
       "3 A B       7/5              FCV 1  17              NA HP  High Polyculture    \n",
       "4           7/5              FCV 2  NA              NA HM  High Monoculture    \n",
       "5 A B       7/5              HP 2    0              NA LP  Low Polyculture     \n",
       "6 A B       7/5              HP3     0              NA LM  Low Monoculture     "
      ]
     },
     "metadata": {},
     "output_type": "display_data"
    }
   ],
   "source": [
    "head(Filt)"
   ]
  },
  {
   "cell_type": "code",
   "execution_count": 14,
   "metadata": {},
   "outputs": [],
   "source": [
    "Filt_Treatments=Filt[!Filt$Environment==\"DCV\",]\n",
    "Filt_Treatments=Filt_Treatments[!Filt_Treatments$Environment==\"FCV\",]"
   ]
  },
  {
   "cell_type": "code",
   "execution_count": 15,
   "metadata": {},
   "outputs": [
    {
     "data": {
      "text/html": [
       "<table>\n",
       "<thead><tr><th></th><th scope=col>Date</th><th scope=col>Time</th><th scope=col>Environment</th><th scope=col>Replicate</th><th scope=col>RFTM</th><th scope=col>Gen</th><th scope=col>Amount.Filtered..mL.</th><th scope=col>Processed</th><th scope=col>Date.Filter.Read</th><th scope=col>Filter</th><th scope=col>Dermo.Cells.Obs</th><th scope=col>X</th><th scope=col>Key</th><th scope=col>X.1</th></tr></thead>\n",
       "<tbody>\n",
       "\t<tr><th scope=row>5</th><td>6/29           </td><td>8:40           </td><td>HP             </td><td>2              </td><td>A              </td><td>B              </td><td>500            </td><td>A B            </td><td>7/5            </td><td>HP 2           </td><td>0              </td><td>NA             </td><td>LP             </td><td>Low Polyculture</td></tr>\n",
       "\t<tr><th scope=row>6</th><td>6/29           </td><td>*2nd @ 10:50   </td><td>HP             </td><td>3              </td><td>A              </td><td>B              </td><td>500            </td><td>A B            </td><td>7/5            </td><td>HP3            </td><td>0              </td><td>NA             </td><td>LM             </td><td>Low Monoculture</td></tr>\n",
       "\t<tr><th scope=row>7</th><td>6/29           </td><td>               </td><td>HM             </td><td>1              </td><td>A              </td><td>B              </td><td>500            </td><td>A B            </td><td>7/5            </td><td>HM1            </td><td>0              </td><td>NA             </td><td>RW             </td><td>River Water    </td></tr>\n",
       "\t<tr><th scope=row>8</th><td>6/29           </td><td>               </td><td>HM             </td><td>5              </td><td>A              </td><td>B              </td><td>500            </td><td>A B            </td><td>7/5            </td><td>HM5            </td><td>0              </td><td>NA             </td><td>               </td><td>               </td></tr>\n",
       "\t<tr><th scope=row>9</th><td>6/29           </td><td>               </td><td>LP             </td><td>8              </td><td>A              </td><td>B              </td><td>500            </td><td>A B            </td><td>7/5            </td><td>LP9            </td><td>0              </td><td>NA             </td><td>               </td><td>               </td></tr>\n",
       "\t<tr><th scope=row>10</th><td>6/29           </td><td>               </td><td>LP             </td><td>5              </td><td>A              </td><td>B              </td><td>500            </td><td>A B            </td><td>7/5            </td><td>LP5            </td><td>1              </td><td>NA             </td><td>               </td><td>               </td></tr>\n",
       "</tbody>\n",
       "</table>\n"
      ],
      "text/latex": [
       "\\begin{tabular}{r|llllllllllllll}\n",
       "  & Date & Time & Environment & Replicate & RFTM & Gen & Amount.Filtered..mL. & Processed & Date.Filter.Read & Filter & Dermo.Cells.Obs & X & Key & X.1\\\\\n",
       "\\hline\n",
       "\t5 & 6/29            & 8:40            & HP              & 2               & A               & B               & 500             & A B             & 7/5             & HP 2            & 0               & NA              & LP              & Low Polyculture\\\\\n",
       "\t6 & 6/29            & *2nd @ 10:50    & HP              & 3               & A               & B               & 500             & A B             & 7/5             & HP3             & 0               & NA              & LM              & Low Monoculture\\\\\n",
       "\t7 & 6/29            &                 & HM              & 1               & A               & B               & 500             & A B             & 7/5             & HM1             & 0               & NA              & RW              & River Water    \\\\\n",
       "\t8 & 6/29            &                 & HM              & 5               & A               & B               & 500             & A B             & 7/5             & HM5             & 0               & NA              &                 &                \\\\\n",
       "\t9 & 6/29            &                 & LP              & 8               & A               & B               & 500             & A B             & 7/5             & LP9             & 0               & NA              &                 &                \\\\\n",
       "\t10 & 6/29            &                 & LP              & 5               & A               & B               & 500             & A B             & 7/5             & LP5             & 1               & NA              &                 &                \\\\\n",
       "\\end{tabular}\n"
      ],
      "text/markdown": [
       "\n",
       "| <!--/--> | Date | Time | Environment | Replicate | RFTM | Gen | Amount.Filtered..mL. | Processed | Date.Filter.Read | Filter | Dermo.Cells.Obs | X | Key | X.1 | \n",
       "|---|---|---|---|---|---|\n",
       "| 5 | 6/29            | 8:40            | HP              | 2               | A               | B               | 500             | A B             | 7/5             | HP 2            | 0               | NA              | LP              | Low Polyculture | \n",
       "| 6 | 6/29            | *2nd @ 10:50    | HP              | 3               | A               | B               | 500             | A B             | 7/5             | HP3             | 0               | NA              | LM              | Low Monoculture | \n",
       "| 7 | 6/29            |                 | HM              | 1               | A               | B               | 500             | A B             | 7/5             | HM1             | 0               | NA              | RW              | River Water     | \n",
       "| 8 | 6/29            |                 | HM              | 5               | A               | B               | 500             | A B             | 7/5             | HM5             | 0               | NA              |                 |                 | \n",
       "| 9 | 6/29            |                 | LP              | 8               | A               | B               | 500             | A B             | 7/5             | LP9             | 0               | NA              |                 |                 | \n",
       "| 10 | 6/29            |                 | LP              | 5               | A               | B               | 500             | A B             | 7/5             | LP5             | 1               | NA              |                 |                 | \n",
       "\n",
       "\n"
      ],
      "text/plain": [
       "   Date Time         Environment Replicate RFTM Gen Amount.Filtered..mL.\n",
       "5  6/29 8:40         HP          2         A    B   500                 \n",
       "6  6/29 *2nd @ 10:50 HP          3         A    B   500                 \n",
       "7  6/29              HM          1         A    B   500                 \n",
       "8  6/29              HM          5         A    B   500                 \n",
       "9  6/29              LP          8         A    B   500                 \n",
       "10 6/29              LP          5         A    B   500                 \n",
       "   Processed Date.Filter.Read Filter Dermo.Cells.Obs X  Key X.1            \n",
       "5  A B       7/5              HP 2   0               NA LP  Low Polyculture\n",
       "6  A B       7/5              HP3    0               NA LM  Low Monoculture\n",
       "7  A B       7/5              HM1    0               NA RW  River Water    \n",
       "8  A B       7/5              HM5    0               NA                    \n",
       "9  A B       7/5              LP9    0               NA                    \n",
       "10 A B       7/5              LP5    1               NA                    "
      ]
     },
     "metadata": {},
     "output_type": "display_data"
    }
   ],
   "source": [
    "head(Filt_Treatments)"
   ]
  },
  {
   "cell_type": "code",
   "execution_count": 18,
   "metadata": {},
   "outputs": [
    {
     "name": "stderr",
     "output_type": "stream",
     "text": [
      "Warning message in aov(Filt_Treatments$Dermo.Cells.Obs ~ Filt_Treatments$Date * :\n",
      "“Error() model is singular”"
     ]
    }
   ],
   "source": [
    "RFTM_anova=aov(Filt_Treatments$Dermo.Cells.Obs~Filt_Treatments$Date*Filt_Treatments$Environment+Error(Filt_Treatments$Environment/Filt_Treatments$Replicate))\n"
   ]
  },
  {
   "cell_type": "code",
   "execution_count": 19,
   "metadata": {},
   "outputs": [
    {
     "data": {
      "text/plain": [
       "\n",
       "Error: Filt_Treatments$Environment\n",
       "                            Df Sum Sq Mean Sq\n",
       "Filt_Treatments$Date         2  0.309  0.1545\n",
       "Filt_Treatments$Environment 11  7.316  0.6651\n",
       "\n",
       "Error: Filt_Treatments$Environment:Filt_Treatments$Replicate\n",
       "                                                 Df Sum Sq Mean Sq\n",
       "Filt_Treatments$Date                              3 0.8086  0.2695\n",
       "Filt_Treatments$Date:Filt_Treatments$Environment  1 0.1840  0.1840\n",
       "\n",
       "Error: Within\n",
       "                                                 Df Sum Sq Mean Sq F value\n",
       "Filt_Treatments$Date                              3  8.866   2.955   1.753\n",
       "Filt_Treatments$Date:Filt_Treatments$Environment  9  4.788   0.532   0.316\n",
       "Residuals                                        12 20.228   1.686        \n",
       "                                                 Pr(>F)\n",
       "Filt_Treatments$Date                              0.209\n",
       "Filt_Treatments$Date:Filt_Treatments$Environment  0.954\n",
       "Residuals                                              "
      ]
     },
     "metadata": {},
     "output_type": "display_data"
    }
   ],
   "source": [
    "summary(RFTM_anova)"
   ]
  },
  {
   "cell_type": "code",
   "execution_count": null,
   "metadata": {},
   "outputs": [],
   "source": []
  }
 ],
 "metadata": {
  "kernelspec": {
   "display_name": "R",
   "language": "R",
   "name": "ir"
  },
  "language_info": {
   "codemirror_mode": "r",
   "file_extension": ".r",
   "mimetype": "text/x-r-source",
   "name": "R",
   "pygments_lexer": "r",
   "version": "3.4.2"
  }
 },
 "nbformat": 4,
 "nbformat_minor": 2
}
